{
  "nbformat": 4,
  "nbformat_minor": 0,
  "metadata": {
    "colab": {
      "provenance": [],
      "authorship_tag": "ABX9TyP/w/8bL3zKJpnIBAkHHMeh",
      "include_colab_link": true
    },
    "kernelspec": {
      "name": "python3",
      "display_name": "Python 3"
    },
    "language_info": {
      "name": "python"
    }
  },
  "cells": [
    {
      "cell_type": "markdown",
      "metadata": {
        "id": "view-in-github",
        "colab_type": "text"
      },
      "source": [
        "<a href=\"https://colab.research.google.com/github/ProfessorPatrickSlatraigh/ProblemSolving/blob/main/ChookProblemSolving.ipynb\" target=\"_parent\"><img src=\"https://colab.research.google.com/assets/colab-badge.svg\" alt=\"Open In Colab\"/></a>"
      ]
    },
    {
      "cell_type": "markdown",
      "source": [
        "# Paul H. Chook Department of Information Systems and Statistics  \n",
        "\n",
        "## Problem Solving Techniques  \n",
        "\n",
        "*by Patrick Slattery, April 2025.*  \n"
      ],
      "metadata": {
        "id": "DvUfdGgGhwRq"
      }
    },
    {
      "cell_type": "markdown",
      "source": [
        "\n",
        "\n",
        "---\n",
        "\n"
      ],
      "metadata": {
        "id": "cIxiR4oDh7nz"
      }
    },
    {
      "cell_type": "code",
      "source": [
        "!curl \"https://raw.githubusercontent.com/ProfessorPatrickSlatraigh/ProblemSolving/refs/heads/main/ChookProblemSolving.json?token=GHSAT0AAAAAADBQNY65CJOD3UXY3ZP5FPJIZ7ZHWZQ\" -o ChookProblemSolving.json"
      ],
      "metadata": {
        "id": "kJZdaYjVlnnc"
      },
      "execution_count": null,
      "outputs": []
    },
    {
      "cell_type": "code",
      "source": [
        "import json\n",
        "import math\n",
        "\n",
        "def load_json(filepath):\n",
        "    try:\n",
        "        with open(filepath, \"r\") as file:\n",
        "            return json.load(file)\n",
        "    except FileNotFoundError:\n",
        "        print(f\"File '{filepath}' not found.\")\n",
        "        return None\n",
        "\n",
        "def to_camel_case(snake_str):\n",
        "    parts = snake_str.split('_')\n",
        "    return parts[0] + ''.join(word.capitalize() for word in parts[1:])\n",
        "\n",
        "def display_menu(techniques):\n",
        "    print(\"\\nSelect a Business Analysis Technique:\\n\")\n",
        "    print(\" 0. View techniques by category\\n\")\n",
        "\n",
        "    mid = math.ceil(len(techniques) / 2)\n",
        "    col1 = techniques[:mid]\n",
        "    col2 = techniques[mid:]\n",
        "\n",
        "    width = len(str(len(techniques)))\n",
        "    for i in range(mid):\n",
        "        left = f\"{str(i+1).rjust(width)}.\\t{col1[i]}\"\n",
        "        right = \"\"\n",
        "        if i < len(col2):\n",
        "            right = f\"{str(i+mid+1).rjust(width)}.\\t{col2[i]}\"\n",
        "        print(f\"{left:<40}{right}\")\n",
        "\n",
        "def display_technique_details(technique_data):\n",
        "    for attr, value in technique_data.items():\n",
        "        attr_name = to_camel_case(attr)\n",
        "        print(f\"\\n{attr_name}:\")\n",
        "        if isinstance(value, list):\n",
        "            for item in value:\n",
        "                print(f\"  - {item}\")\n",
        "        else:\n",
        "            print(f\"  {value}\")\n",
        "\n",
        "def display_techniques_by_category(data):\n",
        "    print(\"\\nTechniques Grouped by Category:\\n\")\n",
        "    categories = {}\n",
        "\n",
        "    for short_name, details in data.items():\n",
        "        domain = details[\"domain\"]\n",
        "        categories.setdefault(domain, []).append((short_name, details[\"definition\"]))\n",
        "\n",
        "    for domain, items in categories.items():\n",
        "        print(f\"{domain}:\")\n",
        "        for short_name, definition in sorted(items):\n",
        "            print(f\"  {short_name}: {definition}\")\n",
        "        print()\n",
        "\n",
        "def main():\n",
        "    filepath = \"ChookProblemSolving.json\"\n",
        "    data = load_json(filepath)\n",
        "\n",
        "    if not data:\n",
        "        return\n",
        "\n",
        "    keys = list(data.keys())\n",
        "\n",
        "    while True:\n",
        "        display_menu(keys)\n",
        "        user_input = input(\"\\nEnter the number of a technique, '0' for categories, or press Enter to exit: \").strip()\n",
        "\n",
        "        if user_input == \"\":\n",
        "            print(\"Exiting program.\")\n",
        "            break\n",
        "        elif user_input == \"0\":\n",
        "            display_techniques_by_category(data)\n",
        "        else:\n",
        "            try:\n",
        "                choice = int(user_input)\n",
        "                if 1 <= choice <= len(keys):\n",
        "                    selected_key = keys[choice - 1]\n",
        "                    print(f\"\\n--- Details for {selected_key} ---\")\n",
        "                    display_technique_details(data[selected_key])\n",
        "                else:\n",
        "                    print(\"Invalid selection. Please choose a valid number.\")\n",
        "            except ValueError:\n",
        "                print(\"Please enter a valid integer or press Enter to exit.\")\n",
        "\n",
        "if __name__ == \"__main__\":\n",
        "    main()\n"
      ],
      "metadata": {
        "id": "_7G8w1QvtR7z"
      },
      "execution_count": null,
      "outputs": []
    },
    {
      "cell_type": "markdown",
      "source": [
        "\n",
        "\n",
        "---\n",
        "\n"
      ],
      "metadata": {
        "id": "IIdAPyYJt51M"
      }
    }
  ]
}